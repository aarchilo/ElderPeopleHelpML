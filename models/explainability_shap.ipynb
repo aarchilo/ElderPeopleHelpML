{
 "cells": [
  {
   "cell_type": "code",
   "execution_count": 9,
   "id": "5a37133e",
   "metadata": {},
   "outputs": [
    {
     "ename": "FileNotFoundError",
     "evalue": "Model not found at models\\gb_baseline.joblib",
     "output_type": "error",
     "traceback": [
      "\u001b[31m---------------------------------------------------------------------------\u001b[39m",
      "\u001b[31mFileNotFoundError\u001b[39m                         Traceback (most recent call last)",
      "\u001b[36mCell\u001b[39m\u001b[36m \u001b[39m\u001b[32mIn[9]\u001b[39m\u001b[32m, line 16\u001b[39m\n\u001b[32m     14\u001b[39m     model = joblib.load(model_path)\n\u001b[32m     15\u001b[39m \u001b[38;5;28;01melse\u001b[39;00m:\n\u001b[32m---> \u001b[39m\u001b[32m16\u001b[39m     \u001b[38;5;28;01mraise\u001b[39;00m \u001b[38;5;167;01mFileNotFoundError\u001b[39;00m(\u001b[33mf\u001b[39m\u001b[33m\"\u001b[39m\u001b[33mModel not found at \u001b[39m\u001b[38;5;132;01m{\u001b[39;00mmodel_path\u001b[38;5;132;01m}\u001b[39;00m\u001b[33m\"\u001b[39m)\n\u001b[32m     18\u001b[39m \u001b[38;5;66;03m# Load data\u001b[39;00m\n\u001b[32m     19\u001b[39m \u001b[38;5;28;01mif\u001b[39;00m os.path.exists(data_path):\n",
      "\u001b[31mFileNotFoundError\u001b[39m: Model not found at models\\gb_baseline.joblib"
     ]
    }
   ],
   "source": [
    "# explainability.ipynb\n",
    "import os\n",
    "import joblib\n",
    "import pandas as pd\n",
    "import shap\n",
    "import matplotlib.pyplot as plt\n",
    "\n",
    "# Paths\n",
    "model_path = os.path.join(\"models\", \"gb_baseline.joblib\")\n",
    "data_path = \"dirty_v3_path.csv\"\n",
    "\n",
    "# Load model\n",
    "if os.path.exists(model_path):\n",
    "    model = joblib.load(model_path)\n",
    "else:\n",
    "    raise FileNotFoundError(f\"Model not found at {model_path}\")\n",
    "\n",
    "# Load data\n",
    "if os.path.exists(data_path):\n",
    "    df = pd.read_csv(data_path)\n",
    "else:\n",
    "    # Create dummy data if CSV not found\n",
    "    import numpy as np\n",
    "    np.random.seed(42)\n",
    "    df = pd.DataFrame({\n",
    "        'patient_id': range(1, 101),\n",
    "        'feature1': np.random.rand(100),\n",
    "        'feature2': np.random.rand(100),\n",
    "        'feature3': np.random.rand(100),\n",
    "        'care_level': np.random.choice([0,1,2], size=100)\n",
    "    })\n",
    "\n",
    "# Prepare features\n",
    "X = df.drop(columns=['care_level','patient_id'])\n",
    "\n",
    "# SHAP explainability\n",
    "explainer = shap.Explainer(model, X)\n",
    "shap_values = explainer(X)\n",
    "\n",
    "# Global summary plot\n",
    "shap.summary_plot(shap_values, X)\n",
    "\n",
    "# Individual force plot (HTML)\n",
    "shap_html = shap.force_plot(explainer.expected_value, shap_values[0,:], X.iloc[0,:])\n",
    "shap.save_html(\"shap_force_plot.html\", shap_html)\n",
    "print(\"Force plot saved as shap_force_plot.html\")\n"
   ]
  }
 ],
 "metadata": {
  "kernelspec": {
   "display_name": "Python 3",
   "language": "python",
   "name": "python3"
  },
  "language_info": {
   "codemirror_mode": {
    "name": "ipython",
    "version": 3
   },
   "file_extension": ".py",
   "mimetype": "text/x-python",
   "name": "python",
   "nbconvert_exporter": "python",
   "pygments_lexer": "ipython3",
   "version": "3.13.1"
  }
 },
 "nbformat": 4,
 "nbformat_minor": 5
}
